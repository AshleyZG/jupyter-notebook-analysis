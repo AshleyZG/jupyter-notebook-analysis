{
 "cells": [
  {
   "cell_type": "markdown",
   "metadata": {},
   "source": [
    "# What does thid notebook do?  \n",
    "using agglomerative clustering to find posible decision points in all notebooks  \n",
    "\n"
   ]
  },
  {
   "cell_type": "markdown",
   "metadata": {},
   "source": [
    "# Agglomerative Clustering"
   ]
  },
  {
   "cell_type": "code",
   "execution_count": null,
   "metadata": {},
   "outputs": [],
   "source": [
    "%matplotlib notebook"
   ]
  },
  {
   "cell_type": "code",
   "execution_count": null,
   "metadata": {},
   "outputs": [],
   "source": [
    "import os\n",
    "from tqdm import tqdm\n",
    "import numpy as np\n",
    "from sklearn import cluster\n",
    "import scipy.cluster.hierarchy as sch\n",
    "from matplotlib import pyplot as plt\n",
    "from scipy.cluster.hierarchy import dendrogram\n",
    "\n",
    "import pdb\n",
    "import json\n",
    "import sklearn\n",
    "import types\n",
    "\n",
    "from importlib import import_module\n",
    "\n",
    "from extract_func import process_file\n",
    "\n",
    "from sklearn import *\n",
    "\n",
    "import inspect\n",
    "\n",
    "import types"
   ]
  },
  {
   "cell_type": "code",
   "execution_count": null,
   "metadata": {},
   "outputs": [],
   "source": [
    "EXPANSION = True"
   ]
  },
  {
   "cell_type": "code",
   "execution_count": null,
   "metadata": {},
   "outputs": [],
   "source": [
    "class Tree(object):\n",
    "    \"\"\"tree sturcture to record currently found decision points\"\"\"\n",
    "    def __init__(self, lib, funcs = []):\n",
    "        \"\"\"init a tree with a list of functions or []\"\"\"\n",
    "        super(Tree, self).__init__()\n",
    "        self.lib = lib\n",
    "        self.root = {}\n",
    "        for f in funcs:\n",
    "            self.add_func(f)\n",
    "    \n",
    "    def add_func(self, func):\n",
    "        \"\"\"add function to tree\"\"\"\n",
    "        tokens = func.split('.')\n",
    "        cur_root = self.root\n",
    "        for i, t in enumerate(tokens):\n",
    "            if t not in cur_root:\n",
    "                cur_root[t] = {}\n",
    "            cur_root = cur_root[t]\n",
    "            \n",
    "    def add_funcs(self, funcs):\n",
    "        \"\"\"add functions to tree\"\"\"\n",
    "        for f in funcs:\n",
    "            self.add_func(f)\n",
    "\n",
    "    def check_node(self, node):\n",
    "        \"\"\"delete leaves if very deep but not wide\"\"\"\n",
    "        if len(node)<3:\n",
    "            return {}\n",
    "        else:\n",
    "            node = {k: self.check_node(node[k]) for k in node}\n",
    "            return node\n",
    "    \n",
    "    def cut_tree(self):\n",
    "        self.cut_root = {self.lib: self.check_node(self.root[self.lib])}\n",
    "        \n",
    "    def tolist(self, prefix, tree):\n",
    "        results = []\n",
    "        for k in tree:\n",
    "            if tree[k] =={}:\n",
    "                results.append('{}.{}'.format(prefix,k) if prefix!='' else k)\n",
    "            else:\n",
    "                results+=self.tolist('{}.{}'.format(prefix,k) if prefix!='' else k, tree[k])\n",
    "        return results\n",
    "        \n",
    "        "
   ]
  },
  {
   "cell_type": "code",
   "execution_count": null,
   "metadata": {},
   "outputs": [],
   "source": [
    "def is_parent_child(parent_func, child_func):\n",
    "    if len(parent_func)>=len(child_func):\n",
    "        return False\n",
    "    if child_func.startswith(parent_func):\n",
    "        if len(child_func.split('.'))>len(parent_func.split('.')):\n",
    "            return True\n",
    "        else:\n",
    "            return False\n",
    "    else:\n",
    "        return False"
   ]
  },
  {
   "cell_type": "code",
   "execution_count": null,
   "metadata": {},
   "outputs": [],
   "source": [
    "def search_func(mod, func):\n",
    "    tokens = func.split('.')\n",
    "    prefix = mod.__name__\n",
    "    for t in tokens[1:]:\n",
    "        sub = getattr(mod, t)\n",
    "        prefix +='.{}'.format(t)\n",
    "        if type(sub)==types.ModuleType or type(sub)==types.ClassType:\n",
    "            mod = sub\n",
    "        elif type(sub)==types.FunctionType:\n",
    "            break\n",
    "        else:\n",
    "            assert ValueError, type(sub)\n",
    "    return prefix"
   ]
  },
  {
   "cell_type": "code",
   "execution_count": null,
   "metadata": {},
   "outputs": [],
   "source": [
    "def cut_tree(obj, trees, threshold, expansion_threshold = 0.5):\n",
    "    new_trees = {}\n",
    "    \n",
    "    modules = [item[0] for item in inspect.getmembers(obj, inspect.ismodule)]\n",
    "    classes = [item[0] for item in inspect.getmembers(obj, inspect.isclass)]\n",
    "    functions = [item[0] for item in inspect.getmembers(obj, inspect.isfunction)]\n",
    "    \n",
    "    members = trees.keys()\n",
    "    \n",
    "    actual_modules = [m for m in members if m in modules]\n",
    "    actual_classes = [m for m in members if m in classes]\n",
    "    actual_functions = [m for m in members if m in functions]\n",
    "    \n",
    "    module_proportion = len(actual_modules)/(len(modules)+0.0001)\n",
    "    class_proportion = len(actual_classes)/(len(classes)+0.0001)\n",
    "    function_proportion = len(actual_functions)/(len(functions)+0.0001)\n",
    "    \n",
    "    if module_proportion>threshold:\n",
    "        for t in actual_modules:\n",
    "            edited_tree = cut_tree(getattr(obj, t), trees[t], threshold, expansion_threshold)\n",
    "            if len(edited_tree)==0:\n",
    "                continue\n",
    "            new_trees[t] = edited_tree\n",
    "    if class_proportion>threshold:\n",
    "        for t in actual_classes:\n",
    "            new_trees[t] = cut_tree(getattr(obj, t), trees[t], threshold, expansion_threshold)\n",
    "    if function_proportion>threshold:\n",
    "        for t in actual_functions:\n",
    "            new_trees[t] = cut_tree(getattr(obj, t), trees[t], threshold, expansion_threshold)\n",
    "    if EXPANSION and class_proportion>expansion_threshold:\n",
    "        for c in classes:\n",
    "            if c not in actual_classes and not c.startswith('_'):\n",
    "                new_trees[c] = {}\n",
    "    if EXPANSION and function_proportion>expansion_threshold:\n",
    "        for f in functions:\n",
    "            if f not in actual_functions and not f.startswith('_'):\n",
    "                new_trees[f] = {}\n",
    "    return new_trees"
   ]
  },
  {
   "cell_type": "code",
   "execution_count": null,
   "metadata": {},
   "outputs": [],
   "source": [
    "not_root = []\n",
    "sets = []\n",
    "has_root = []\n",
    "\n",
    "def find_root_in_cluster(cluster):\n",
    "    \"\"\"\n",
    "    find a representative function in a cluster like:\n",
    "     ['sklearn.preprocessing.MinMaxScaler',\n",
    "      'sklearn.preprocessing.MinMaxScaler.fit_transform',\n",
    "      'sklearn.preprocessing.MinMaxScaler.transform']\n",
    "    return a list []\n",
    "    \"\"\"\n",
    "    cluster = sorted(cluster)\n",
    "    last_root = '*'\n",
    "    cluster_roots = []\n",
    "    for f in cluster:\n",
    "        if not f.startswith(last_root):\n",
    "            cluster_roots.append(f)\n",
    "            last_root = f\n",
    "        elif f not in has_root:\n",
    "            has_root.append(f)\n",
    "    cluster_roots = [r for r in cluster_roots if not any([is_parent_child(root, r) for root in roots])]\n",
    "    return cluster_roots\n",
    "            \n",
    "\n",
    "    "
   ]
  },
  {
   "cell_type": "markdown",
   "metadata": {},
   "source": [
    "暂时没有用，但是请先保留"
   ]
  },
  {
   "cell_type": "markdown",
   "metadata": {},
   "source": [
    "# delete loops:\n",
    "eg  \n",
    "**sklearn.tree.DecisionTreeClassifier.fit.fit.fit**  \n",
    "is equal to   \n",
    "**sklearn.tree.DecisionTreeClassifier.fit**  \n",
    "  \n",
    "the only difference is that the first one is called multiple times  "
   ]
  },
  {
   "cell_type": "code",
   "execution_count": null,
   "metadata": {},
   "outputs": [],
   "source": [
    "def delete_loop(func):\n",
    "    \"\"\"\n",
    "    delete continue loops in a function\n",
    "    simplify **sklearn.tree.DecisionTreeClassifier.fit.fit.fit** \n",
    "          to **sklearn.tree.DecisionTreeClassifier.fit**\n",
    "    \"\"\"\n",
    "    tokens = func.split('.')\n",
    "    new_tokens = []\n",
    "    for t in tokens:\n",
    "        if new_tokens == [] or t!=new_tokens[-1]:\n",
    "            new_tokens.append(t)\n",
    "    return '.'.join(new_tokens)"
   ]
  },
  {
   "cell_type": "code",
   "execution_count": null,
   "metadata": {},
   "outputs": [],
   "source": [
    "with open('./file_funcs.json','r') as f:\n",
    "    data = json.load(f)"
   ]
  },
  {
   "cell_type": "code",
   "execution_count": null,
   "metadata": {},
   "outputs": [],
   "source": [
    "# nb_path = '/projects/bdata/jupyter/target'\n",
    "nb_path = '/home/gezhang/data/jupyter/target'\n",
    "notebooks = os.listdir(nb_path)"
   ]
  },
  {
   "cell_type": "code",
   "execution_count": null,
   "metadata": {},
   "outputs": [],
   "source": [
    "sklearn_notebooks = []\n",
    "for i, nb in enumerate(notebooks):\n",
    "    if i%10000==0:\n",
    "        print(i)\n",
    "    with open(os.path.join(nb_path, nb),'r') as f:\n",
    "#         print('--')\n",
    "        content = f.read()\n",
    "    tokens = content.split()\n",
    "    if 'sklearn' in tokens:\n",
    "        sklearn_notebooks.append(nb)\n",
    "    "
   ]
  },
  {
   "cell_type": "code",
   "execution_count": null,
   "metadata": {},
   "outputs": [],
   "source": [
    "func2vector = {}\n",
    "vector_size = len(sklearn_notebooks)\n",
    "err_files = []\n",
    "sklearn_counter = {}\n",
    "for i, nb in enumerate(sklearn_notebooks):\n",
    "    if i%10000 == 0:\n",
    "        print('Log: {} notebooks processed'.format(i))\n",
    "    funcs = []\n",
    "    if nb in data:\n",
    "        funcs = data[nb][\"funcs\"]\n",
    "        linenos = data[nb][\"linenos\"]\n",
    "    funcs = [func for func in funcs if func.startswith('sklearn.')]\n",
    "    \n",
    "    funcs = set(funcs)\n",
    "    for func in funcs:\n",
    "        if func not in func2vector:\n",
    "            func2vector[func] = np.zeros(vector_size)\n",
    "        if func not in sklearn_counter:\n",
    "            sklearn_counter[func]=0\n",
    "        func2vector[func][i] = 1\n",
    "        sklearn_counter[func]+=1"
   ]
  },
  {
   "cell_type": "code",
   "execution_count": null,
   "metadata": {},
   "outputs": [],
   "source": [
    "idx2func = list(func2vector.keys())\n",
    "func2idx = {f: i for i, f in enumerate(idx2func)}\n",
    "vectors = [func2vector[f] for f in idx2func]\n",
    "occur_matrix = np.stack(vectors)\n",
    "cooccur_matrix = np.dot(occur_matrix, occur_matrix.T)"
   ]
  },
  {
   "cell_type": "code",
   "execution_count": null,
   "metadata": {},
   "outputs": [],
   "source": [
    "a = 1- cooccur_matrix/cooccur_matrix.max()"
   ]
  },
  {
   "cell_type": "code",
   "execution_count": null,
   "metadata": {},
   "outputs": [],
   "source": [
    "model = cluster.AgglomerativeClustering(n_clusters = None, distance_threshold=0.996, affinity=\"precomputed\", linkage=\"average\").fit(a)"
   ]
  },
  {
   "cell_type": "code",
   "execution_count": null,
   "metadata": {},
   "outputs": [],
   "source": [
    "model.n_clusters_"
   ]
  },
  {
   "cell_type": "code",
   "execution_count": null,
   "metadata": {},
   "outputs": [],
   "source": [
    "clusters = {}\n",
    "for i, l in enumerate(model.labels_):\n",
    "    if l not in clusters:\n",
    "        clusters[l] = []\n",
    "    clusters[l].append(idx2func[i])\n",
    "clusters = list(clusters.values())"
   ]
  },
  {
   "cell_type": "code",
   "execution_count": null,
   "metadata": {},
   "outputs": [],
   "source": [
    "clusters"
   ]
  },
  {
   "cell_type": "code",
   "execution_count": null,
   "metadata": {},
   "outputs": [],
   "source": [
    "roots = []\n",
    "for c in tqdm(clusters):\n",
    "    funcs = find_root_in_cluster(c)\n",
    "    roots+=funcs\n",
    "    "
   ]
  },
  {
   "cell_type": "code",
   "execution_count": null,
   "metadata": {},
   "outputs": [],
   "source": [
    "sorted(roots)"
   ]
  },
  {
   "cell_type": "code",
   "execution_count": null,
   "metadata": {},
   "outputs": [],
   "source": [
    "len(roots)"
   ]
  },
  {
   "cell_type": "code",
   "execution_count": null,
   "metadata": {},
   "outputs": [],
   "source": [
    "# 删去representatives 中还有sub 关系的函数（只相差一级的话）\n",
    "dp = []\n",
    "for f in sorted(roots):\n",
    "    if dp==[] or len(dp[-1].split('.'))<3:\n",
    "        dp.append(f)\n",
    "    elif not is_parent_child(dp[-1], f):\n",
    "        dp.append(f)\n",
    "    else:\n",
    "        continue"
   ]
  },
  {
   "cell_type": "code",
   "execution_count": null,
   "metadata": {
    "scrolled": true
   },
   "outputs": [],
   "source": [
    "len(dp)"
   ]
  },
  {
   "cell_type": "code",
   "execution_count": null,
   "metadata": {},
   "outputs": [],
   "source": [
    "dp"
   ]
  },
  {
   "cell_type": "markdown",
   "metadata": {},
   "source": [
    "删除不合法的函数"
   ]
  },
  {
   "cell_type": "code",
   "execution_count": null,
   "metadata": {},
   "outputs": [],
   "source": [
    "temp = []\n",
    "for f in dp:\n",
    "    tokens = f.split('.')\n",
    "    try:\n",
    "        getattr(sklearn, tokens[1])\n",
    "        temp.append(f)\n",
    "    except Exception as e:\n",
    "        print(e)\n",
    "temp"
   ]
  },
  {
   "cell_type": "markdown",
   "metadata": {},
   "source": [
    "删除上面这个cell，保留下面这个，看是否可以"
   ]
  },
  {
   "cell_type": "code",
   "execution_count": null,
   "metadata": {},
   "outputs": [],
   "source": [
    "new_temp = []\n",
    "for f in dp:\n",
    "    tokens = f.split('.')\n",
    "    try:\n",
    "        getattr(sklearn, tokens[1])\n",
    "        mod = import_module('sklearn.{}'.format(tokens[1]))\n",
    "        getattr(mod, tokens[2])\n",
    "        new_temp.append(f)\n",
    "    except Exception as e:\n",
    "        print(e)\n",
    "new_temp"
   ]
  },
  {
   "cell_type": "code",
   "execution_count": null,
   "metadata": {},
   "outputs": [],
   "source": [
    "search_func(sklearn, \"sklearn.base.BaseEstimator.get_params\")"
   ]
  },
  {
   "cell_type": "markdown",
   "metadata": {},
   "source": [
    "上面两个temp new_temp 的筛选是不是在search_func 中都可以实现？"
   ]
  },
  {
   "cell_type": "code",
   "execution_count": null,
   "metadata": {},
   "outputs": [],
   "source": [
    "# delete all incorrect functions\n",
    "final_dp = []\n",
    "for f in new_temp:\n",
    "    try:\n",
    "        print('-'*20)\n",
    "        corrected_func = search_func(sklearn, f)\n",
    "        if f!=corrected_func:\n",
    "            print(f)\n",
    "            print(corrected_func)\n",
    "        final_dp.append(corrected_func)\n",
    "    except Exception as e:\n",
    "        print(f)\n",
    "        print(e)\n",
    "        "
   ]
  },
  {
   "cell_type": "code",
   "execution_count": null,
   "metadata": {},
   "outputs": [],
   "source": [
    "final_dp"
   ]
  },
  {
   "cell_type": "code",
   "execution_count": null,
   "metadata": {},
   "outputs": [],
   "source": [
    "# delete all functions start with \"_\"\n",
    "all_dp = []\n",
    "for f in final_dp:\n",
    "    tokens = f.split('.')\n",
    "    if any([t.startswith('_') for t in tokens]):\n",
    "        continue\n",
    "    else:\n",
    "        all_dp.append(f)"
   ]
  },
  {
   "cell_type": "code",
   "execution_count": null,
   "metadata": {},
   "outputs": [],
   "source": [
    "len(all_dp)"
   ]
  },
  {
   "cell_type": "code",
   "execution_count": null,
   "metadata": {},
   "outputs": [],
   "source": [
    "all_dp"
   ]
  },
  {
   "cell_type": "markdown",
   "metadata": {},
   "source": [
    "把function list 转为树，进行剪枝和扩充"
   ]
  },
  {
   "cell_type": "code",
   "execution_count": null,
   "metadata": {},
   "outputs": [],
   "source": [
    "\n",
    "tree = Tree(sklearn, all_dp)\n"
   ]
  },
  {
   "cell_type": "code",
   "execution_count": null,
   "metadata": {},
   "outputs": [],
   "source": [
    "dp1 = sorted(tree.tolist('',{\"sklearn\":cut_tree(sklearn, tree.root['sklearn'],0.05,0.2)}))"
   ]
  },
  {
   "cell_type": "code",
   "execution_count": null,
   "metadata": {},
   "outputs": [],
   "source": [
    "len(dp1)"
   ]
  },
  {
   "cell_type": "code",
   "execution_count": null,
   "metadata": {},
   "outputs": [],
   "source": [
    "for f in dp1:\n",
    "    if f not in dp2:\n",
    "        print(f)"
   ]
  },
  {
   "cell_type": "code",
   "execution_count": null,
   "metadata": {},
   "outputs": [],
   "source": [
    "for f in all_dp:\n",
    "    if f not in dp1:\n",
    "        print(f)"
   ]
  },
  {
   "cell_type": "code",
   "execution_count": null,
   "metadata": {
    "scrolled": true
   },
   "outputs": [],
   "source": [
    "sorted(dp1)"
   ]
  },
  {
   "cell_type": "code",
   "execution_count": null,
   "metadata": {},
   "outputs": [],
   "source": [
    "for f in sorted(dp1):\n",
    "    print(f)"
   ]
  }
 ],
 "metadata": {
  "kernelspec": {
   "display_name": "Python 3",
   "language": "python",
   "name": "python3"
  },
  "language_info": {
   "codemirror_mode": {
    "name": "ipython",
    "version": 3
   },
   "file_extension": ".py",
   "mimetype": "text/x-python",
   "name": "python",
   "nbconvert_exporter": "python",
   "pygments_lexer": "ipython3",
   "version": "3.6.8"
  }
 },
 "nbformat": 4,
 "nbformat_minor": 2
}
