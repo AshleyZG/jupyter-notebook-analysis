{
 "cells": [
  {
   "cell_type": "markdown",
   "metadata": {},
   "source": [
    "# html -> Annotation Results"
   ]
  },
  {
   "cell_type": "markdown",
   "metadata": {},
   "source": [
    "version_2"
   ]
  },
  {
   "cell_type": "code",
   "execution_count": 3,
   "metadata": {},
   "outputs": [],
   "source": [
    "path = \"/projects/bdata/jupyter/annotation/version_2\"\n",
    "folder_1 = 'backup_templates'\n",
    "folder_2 = 'templates'\n",
    "mike = 'mike'\n",
    "ge = 'ge'"
   ]
  },
  {
   "cell_type": "code",
   "execution_count": 4,
   "metadata": {},
   "outputs": [],
   "source": [
    "import os"
   ]
  },
  {
   "cell_type": "code",
   "execution_count": 5,
   "metadata": {},
   "outputs": [],
   "source": [
    "nbs = [\"nb_1090484\",\"nb_1240128\",\"nb_1033591\",\"nb_1242788\",\"nb_1004385\",\"nb_1025815\",\"nb_1185862\",\"nb_1157710\",\n",
    "       \"nb_1024739\",\"nb_1051445\",\"nb_1073105\",\"nb_1066338\",\"nb_1221634\",\"nb_1053523\",\"nb_1235946\",\"nb_1059730\",\n",
    "       \"nb_1123257\",\"nb_1006895\",\"nb_1043186\",\"nb_1112388\",\"nb_1002722\",\"nb_1064527\",\"nb_1089313\",\"nb_1184211\",\n",
    "       \"nb_1183716\",\"nb_1163801\",\"nb_1058335\",\"nb_1242794\",\"nb_1088637\",\"nb_1234699\",\"nb_1090152\",\"nb_1231330\",\n",
    "       \"nb_1149480\",\"nb_1172355\",\"nb_1143058\",\"nb_1203216\",\"nb_1102984\",\"nb_1215903\",\"nb_1071938\",\"nb_1109134\",\n",
    "       \"nb_1202205\",\"nb_1000752\",\"nb_1156487\",\"nb_1170705\",\"nb_1143576\",\"nb_1249011\",\"nb_1026834\",\"nb_1151070\",\n",
    "       \"nb_1116374\",\"nb_1022912\",\"nb_1226996\",\"nb_1236355\",\"nb_1189833\",\"nb_1058499\",\"nb_1195600\",\"nb_1005070\",\n",
    "       \"nb_1176809\",\"nb_1103777\",\"nb_1198274\",\"nb_1212287\",\"nb_1245037\",\"nb_1180754\",\"nb_1215918\",\"nb_1108440\",\n",
    "       \"nb_1183781\",\"nb_1228071\",\"nb_1026329\",\"nb_1221697\",\"nb_1122022\",\"nb_1222512\",\"nb_1138647\",\"nb_1118399\",\n",
    "       \"nb_1108807\",\"nb_1218288\",\"nb_1054793\",\"nb_1183943\",\"nb_1234234\",\"nb_1089165\",\"nb_1105414\",\"nb_1005207\",\n",
    "       \"nb_1161031\",\"nb_1062193\",\"nb_1227519\",\"nb_1046805\",\"nb_1068026\",\"nb_1138666\",\"nb_1103327\",\"nb_1222945\",\n",
    "       \"nb_1159388\",\"nb_1031433\",\"nb_1096612\",\"nb_1098281\",\"nb_1193256\",\"nb_1011373\",\"nb_1034447\",\"nb_1163520\",\n",
    "       \"nb_1223629\",\"nb_1050605\",\"nb_1068488\",\"nb_1147823\"]"
   ]
  },
  {
   "cell_type": "markdown",
   "metadata": {},
   "source": [
    "## Annotation (Mike 0-49)"
   ]
  },
  {
   "cell_type": "code",
   "execution_count": 9,
   "metadata": {},
   "outputs": [],
   "source": [
    "mike_nbs = nbs[:50]\n",
    "mike_html = [i+\".html\" for i in mike_nbs]"
   ]
  },
  {
   "cell_type": "code",
   "execution_count": 10,
   "metadata": {},
   "outputs": [],
   "source": [
    "ge_nbs = nbs[50:]\n",
    "ge_html = [i+\".html\" for i in ge_nbs]"
   ]
  },
  {
   "cell_type": "code",
   "execution_count": 8,
   "metadata": {},
   "outputs": [],
   "source": [
    "from shutil import copyfile\n"
   ]
  },
  {
   "cell_type": "code",
   "execution_count": 18,
   "metadata": {},
   "outputs": [],
   "source": [
    "from tqdm import tqdm"
   ]
  },
  {
   "cell_type": "code",
   "execution_count": 13,
   "metadata": {},
   "outputs": [
    {
     "name": "stderr",
     "output_type": "stream",
     "text": [
      "100%|██████████| 50/50 [00:01<00:00, 49.74it/s] \n",
      "100%|██████████| 50/50 [00:01<00:00, 37.97it/s]\n"
     ]
    }
   ],
   "source": [
    "for h in tqdm(mike_html):\n",
    "    try:\n",
    "        copyfile(os.path.join(path, folder_1, h), os.path.join(path, mike, h))\n",
    "    except:\n",
    "        pass\n",
    "    \n",
    "for h in tqdm(ge_html):\n",
    "    try:\n",
    "        copyfile(os.path.join(path, folder_1, h), os.path.join(path, ge, h))\n",
    "    except:\n",
    "        pass\n",
    "    \n",
    "    "
   ]
  },
  {
   "cell_type": "code",
   "execution_count": null,
   "metadata": {},
   "outputs": [],
   "source": []
  },
  {
   "cell_type": "markdown",
   "metadata": {},
   "source": [
    "## Annotation (Ge 0-49)"
   ]
  },
  {
   "cell_type": "code",
   "execution_count": null,
   "metadata": {},
   "outputs": [],
   "source": []
  },
  {
   "cell_type": "code",
   "execution_count": 14,
   "metadata": {},
   "outputs": [],
   "source": [
    "mike_nbs = nbs[50:]\n",
    "mike_html = [i+\".html\" for i in mike_nbs]"
   ]
  },
  {
   "cell_type": "code",
   "execution_count": 15,
   "metadata": {},
   "outputs": [],
   "source": [
    "ge_nbs = nbs[:50]\n",
    "ge_html = [i+\".html\" for i in ge_nbs]"
   ]
  },
  {
   "cell_type": "code",
   "execution_count": null,
   "metadata": {},
   "outputs": [],
   "source": []
  },
  {
   "cell_type": "code",
   "execution_count": 16,
   "metadata": {},
   "outputs": [
    {
     "name": "stderr",
     "output_type": "stream",
     "text": [
      "100%|██████████| 50/50 [00:00<00:00, 94.64it/s]\n",
      "100%|██████████| 50/50 [00:00<00:00, 94.97it/s]\n"
     ]
    }
   ],
   "source": [
    "for h in tqdm(mike_html):\n",
    "    try:\n",
    "        copyfile(os.path.join(path, folder_2, h), os.path.join(path, mike, h))\n",
    "    except:\n",
    "        pass\n",
    "    \n",
    "for h in tqdm(ge_html):\n",
    "    try:\n",
    "        copyfile(os.path.join(path, folder_2, h), os.path.join(path, ge, h))\n",
    "    except:\n",
    "        pass\n",
    "    \n",
    "    "
   ]
  },
  {
   "cell_type": "markdown",
   "metadata": {},
   "source": [
    "## Check missed notebooks"
   ]
  },
  {
   "cell_type": "code",
   "execution_count": 10,
   "metadata": {},
   "outputs": [],
   "source": [
    "a = os.listdir(os.path.join(path, mike))"
   ]
  },
  {
   "cell_type": "code",
   "execution_count": 11,
   "metadata": {},
   "outputs": [],
   "source": [
    "h = [i+'.html' for i in nbs]"
   ]
  },
  {
   "cell_type": "code",
   "execution_count": 8,
   "metadata": {},
   "outputs": [
    {
     "data": {
      "text/plain": [
       "100"
      ]
     },
     "execution_count": 8,
     "metadata": {},
     "output_type": "execute_result"
    }
   ],
   "source": [
    "len(h)"
   ]
  },
  {
   "cell_type": "code",
   "execution_count": 12,
   "metadata": {},
   "outputs": [
    {
     "data": {
      "text/plain": [
       "{'nb_1226996.html', 'nb_1234699.html'}"
      ]
     },
     "execution_count": 12,
     "metadata": {},
     "output_type": "execute_result"
    }
   ],
   "source": [
    "set(h)-set(a)"
   ]
  },
  {
   "cell_type": "code",
   "execution_count": 13,
   "metadata": {},
   "outputs": [],
   "source": [
    "b = os.listdir(os.path.join(path, ge))"
   ]
  },
  {
   "cell_type": "code",
   "execution_count": 14,
   "metadata": {},
   "outputs": [
    {
     "data": {
      "text/plain": [
       "{'nb_1022912.html', 'nb_1226996.html', 'nb_1234699.html'}"
      ]
     },
     "execution_count": 14,
     "metadata": {},
     "output_type": "execute_result"
    }
   ],
   "source": [
    "set(h)-set(b)"
   ]
  },
  {
   "cell_type": "markdown",
   "metadata": {},
   "source": [
    "## Get all Cells and Annotation, Dump to JSON"
   ]
  },
  {
   "cell_type": "code",
   "execution_count": 15,
   "metadata": {},
   "outputs": [],
   "source": [
    "nb_path = '/projects/bdata/jupyter/_7_1'"
   ]
  },
  {
   "cell_type": "code",
   "execution_count": 16,
   "metadata": {},
   "outputs": [],
   "source": [
    "import json"
   ]
  },
  {
   "cell_type": "code",
   "execution_count": 19,
   "metadata": {},
   "outputs": [
    {
     "name": "stderr",
     "output_type": "stream",
     "text": [
      "100%|██████████| 100/100 [00:03<00:00, 30.27it/s]\n"
     ]
    }
   ],
   "source": [
    "\n",
    "file2cells = {}\n",
    "for i in tqdm(nbs):\n",
    "    with open(os.path.join(nb_path, i+'.ipynb'),'r') as f:\n",
    "        content = json.load(f)\n",
    "    file2cells[i] = content"
   ]
  },
  {
   "cell_type": "code",
   "execution_count": 21,
   "metadata": {},
   "outputs": [
    {
     "data": {
      "text/plain": [
       "dict_keys(['nb_1090484', 'nb_1240128', 'nb_1033591', 'nb_1242788', 'nb_1004385', 'nb_1025815', 'nb_1185862', 'nb_1157710', 'nb_1024739', 'nb_1051445', 'nb_1073105', 'nb_1066338', 'nb_1221634', 'nb_1053523', 'nb_1235946', 'nb_1059730', 'nb_1123257', 'nb_1006895', 'nb_1043186', 'nb_1112388', 'nb_1002722', 'nb_1064527', 'nb_1089313', 'nb_1184211', 'nb_1183716', 'nb_1163801', 'nb_1058335', 'nb_1242794', 'nb_1088637', 'nb_1234699', 'nb_1090152', 'nb_1231330', 'nb_1149480', 'nb_1172355', 'nb_1143058', 'nb_1203216', 'nb_1102984', 'nb_1215903', 'nb_1071938', 'nb_1109134', 'nb_1202205', 'nb_1000752', 'nb_1156487', 'nb_1170705', 'nb_1143576', 'nb_1249011', 'nb_1026834', 'nb_1151070', 'nb_1116374', 'nb_1022912', 'nb_1226996', 'nb_1236355', 'nb_1189833', 'nb_1058499', 'nb_1195600', 'nb_1005070', 'nb_1176809', 'nb_1103777', 'nb_1198274', 'nb_1212287', 'nb_1245037', 'nb_1180754', 'nb_1215918', 'nb_1108440', 'nb_1183781', 'nb_1228071', 'nb_1026329', 'nb_1221697', 'nb_1122022', 'nb_1222512', 'nb_1138647', 'nb_1118399', 'nb_1108807', 'nb_1218288', 'nb_1054793', 'nb_1183943', 'nb_1234234', 'nb_1089165', 'nb_1105414', 'nb_1005207', 'nb_1161031', 'nb_1062193', 'nb_1227519', 'nb_1046805', 'nb_1068026', 'nb_1138666', 'nb_1103327', 'nb_1222945', 'nb_1159388', 'nb_1031433', 'nb_1096612', 'nb_1098281', 'nb_1193256', 'nb_1011373', 'nb_1034447', 'nb_1163520', 'nb_1223629', 'nb_1050605', 'nb_1068488', 'nb_1147823'])"
      ]
     },
     "execution_count": 21,
     "metadata": {},
     "output_type": "execute_result"
    }
   ],
   "source": [
    "file2cells.keys()"
   ]
  },
  {
   "cell_type": "markdown",
   "metadata": {},
   "source": [
    "### Ge"
   ]
  },
  {
   "cell_type": "code",
   "execution_count": 29,
   "metadata": {},
   "outputs": [],
   "source": [
    "from bs4 import BeautifulSoup, Tag\n"
   ]
  },
  {
   "cell_type": "code",
   "execution_count": 26,
   "metadata": {},
   "outputs": [],
   "source": [
    "htmls = os.listdir('/projects/bdata/jupyter/annotation/version_2/ge')\n",
    "htmls = [i for i in htmls if i.endswith('.html')]"
   ]
  },
  {
   "cell_type": "code",
   "execution_count": 28,
   "metadata": {},
   "outputs": [],
   "source": [
    "def get_annotate_results(html, path):\n",
    "    # get annotate results\n",
    "    with open(os.path.join(path, html),'r') as f:\n",
    "        html_source = f.read()\n",
    "    soup = BeautifulSoup(html_source)\n",
    "    cells = soup.find_all(\"div\", class_=\"inner_cell\")\n",
    "    origin_opts = [cell.find('option', {'selected': True})[\"value\"] for cell in cells ]\n",
    "    return origin_opts"
   ]
  },
  {
   "cell_type": "code",
   "execution_count": 30,
   "metadata": {
    "collapsed": true
   },
   "outputs": [
    {
     "data": {
      "text/plain": [
       "['5',\n",
       " '1',\n",
       " '2',\n",
       " '2',\n",
       " '2',\n",
       " '2',\n",
       " '2',\n",
       " '2',\n",
       " '2',\n",
       " '2',\n",
       " '2',\n",
       " '2',\n",
       " '2',\n",
       " '3',\n",
       " '1',\n",
       " '2',\n",
       " '2',\n",
       " '2',\n",
       " '2',\n",
       " '2',\n",
       " '2',\n",
       " '2',\n",
       " '2',\n",
       " '2',\n",
       " '1',\n",
       " '2',\n",
       " '2',\n",
       " '2',\n",
       " '1',\n",
       " '1',\n",
       " '2',\n",
       " '1',\n",
       " '2',\n",
       " '2',\n",
       " '2',\n",
       " '0',\n",
       " '1',\n",
       " '2',\n",
       " '2',\n",
       " '0',\n",
       " '2',\n",
       " '2',\n",
       " '2',\n",
       " '2',\n",
       " '2',\n",
       " '2',\n",
       " '2',\n",
       " '0',\n",
       " '1',\n",
       " '2',\n",
       " '2',\n",
       " '2',\n",
       " '2',\n",
       " '0']"
      ]
     },
     "execution_count": 30,
     "metadata": {},
     "output_type": "execute_result"
    }
   ],
   "source": [
    "get_annotate_results('nb_1193256.html', '/projects/bdata/jupyter/annotation/version_2/ge')"
   ]
  },
  {
   "cell_type": "code",
   "execution_count": 41,
   "metadata": {},
   "outputs": [],
   "source": [
    "def get_cells_from_ipynb(path, nb, len_html):\n",
    "    # get cells from ipynb\n",
    "    with open(os.path.join(path, nb),'r') as f:\n",
    "        nb_content =json.load(f)\n",
    "    nb_cells =nb_content[\"cells\"]\n",
    "    if nb=='nb_1138647.ipynb':\n",
    "        nb_cells = nb_cells[:8]+nb_cells[9:]\n",
    "    if len_html!=len(nb_cells):\n",
    "        print(nb)\n",
    "    return nb_cells\n",
    "#         pdb.set_trace()"
   ]
  },
  {
   "cell_type": "code",
   "execution_count": 55,
   "metadata": {},
   "outputs": [
    {
     "name": "stderr",
     "output_type": "stream",
     "text": [
      "100%|██████████| 100/100 [00:09<00:00, 10.27it/s]\n"
     ]
    }
   ],
   "source": [
    "cells = []\n",
    "for i in tqdm(nbs):\n",
    "    if i in ['nb_1022912', 'nb_1226996', 'nb_1234699']:\n",
    "        continue\n",
    "    annotation = get_annotate_results(i+'.html', '/projects/bdata/jupyter/annotation/version_2/ge')\n",
    "    nb_cells = get_cells_from_ipynb('/projects/bdata/jupyter/_7_1', i+'.ipynb', len(annotation))\n",
    "    \n",
    "    for c, a in zip(nb_cells, annotation):\n",
    "        c[\"stage\"] = a\n",
    "        cells.append(c)\n",
    "        \n",
    "    with open(os.path.join('/projects/bdata/jupyter/annotation/version_2/ge', i+'.json'), 'w') \\\n",
    "        as fout:\n",
    "        json.dump(nb_cells, fout,ensure_ascii=False)\n",
    "\n",
    "    "
   ]
  },
  {
   "cell_type": "code",
   "execution_count": 49,
   "metadata": {},
   "outputs": [
    {
     "data": {
      "text/plain": [
       "2692"
      ]
     },
     "execution_count": 49,
     "metadata": {},
     "output_type": "execute_result"
    }
   ],
   "source": [
    "len(cells)"
   ]
  },
  {
   "cell_type": "code",
   "execution_count": 53,
   "metadata": {},
   "outputs": [
    {
     "data": {
      "text/plain": [
       "1796"
      ]
     },
     "execution_count": 53,
     "metadata": {},
     "output_type": "execute_result"
    }
   ],
   "source": [
    "cells = [c for c in cells if c[\"stage\"]!='0']\n",
    "len(cells)"
   ]
  },
  {
   "cell_type": "code",
   "execution_count": 46,
   "metadata": {},
   "outputs": [],
   "source": [
    "import random"
   ]
  },
  {
   "cell_type": "code",
   "execution_count": 54,
   "metadata": {},
   "outputs": [
    {
     "data": {
      "text/plain": [
       "{'cell_type': 'code',\n",
       " 'execution_count': None,\n",
       " 'metadata': {'collapsed': False},\n",
       " 'outputs': [],\n",
       " 'source': ['data = device.getNextWindow()\\n', 'plotarray(data[1:4])'],\n",
       " 'stage': '2'}"
      ]
     },
     "execution_count": 54,
     "metadata": {},
     "output_type": "execute_result"
    }
   ],
   "source": [
    "random.choice(cells)"
   ]
  },
  {
   "cell_type": "code",
   "execution_count": null,
   "metadata": {},
   "outputs": [],
   "source": []
  },
  {
   "cell_type": "markdown",
   "metadata": {},
   "source": [
    "### Mike"
   ]
  },
  {
   "cell_type": "code",
   "execution_count": null,
   "metadata": {},
   "outputs": [],
   "source": []
  },
  {
   "cell_type": "code",
   "execution_count": 56,
   "metadata": {},
   "outputs": [],
   "source": [
    "htmls = os.listdir('/projects/bdata/jupyter/annotation/version_2/mike')\n",
    "htmls = [i for i in htmls if i.endswith('.html')]"
   ]
  },
  {
   "cell_type": "code",
   "execution_count": null,
   "metadata": {},
   "outputs": [],
   "source": []
  },
  {
   "cell_type": "code",
   "execution_count": 57,
   "metadata": {},
   "outputs": [
    {
     "name": "stderr",
     "output_type": "stream",
     "text": [
      "100%|██████████| 100/100 [00:10<00:00,  9.92it/s]\n"
     ]
    }
   ],
   "source": [
    "cells = []\n",
    "for i in tqdm(nbs):\n",
    "    if i in ['nb_1022912', 'nb_1226996', 'nb_1234699']:\n",
    "        continue\n",
    "    annotation = get_annotate_results(i+'.html', '/projects/bdata/jupyter/annotation/version_2/mike')\n",
    "    nb_cells = get_cells_from_ipynb('/projects/bdata/jupyter/_7_1', i+'.ipynb', len(annotation))\n",
    "    \n",
    "    for c, a in zip(nb_cells, annotation):\n",
    "        c[\"stage\"] = a\n",
    "        cells.append(c)\n",
    "        \n",
    "    with open(os.path.join('/projects/bdata/jupyter/annotation/version_2/mike', i+'.json'), 'w') \\\n",
    "        as fout:\n",
    "        json.dump(nb_cells, fout,ensure_ascii=False)\n",
    "\n",
    "    "
   ]
  },
  {
   "cell_type": "code",
   "execution_count": 58,
   "metadata": {},
   "outputs": [
    {
     "data": {
      "text/plain": [
       "2692"
      ]
     },
     "execution_count": 58,
     "metadata": {},
     "output_type": "execute_result"
    }
   ],
   "source": [
    "len(cells)"
   ]
  },
  {
   "cell_type": "code",
   "execution_count": null,
   "metadata": {},
   "outputs": [],
   "source": []
  }
 ],
 "metadata": {
  "kernelspec": {
   "display_name": "Python allennlp",
   "language": "python",
   "name": "allennlp"
  },
  "language_info": {
   "codemirror_mode": {
    "name": "ipython",
    "version": 3
   },
   "file_extension": ".py",
   "mimetype": "text/x-python",
   "name": "python",
   "nbconvert_exporter": "python",
   "pygments_lexer": "ipython3",
   "version": "3.6.9"
  }
 },
 "nbformat": 4,
 "nbformat_minor": 2
}
